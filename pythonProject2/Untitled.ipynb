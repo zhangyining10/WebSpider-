{
 "cells": [
  {
   "cell_type": "code",
   "execution_count": 4,
   "id": "860b23b5",
   "metadata": {},
   "outputs": [],
   "source": [
    "import pyspark\n",
    "from pyspark.sql import SparkSession\n",
    "from pyspark.sql.functions import col, mean, count, when\n",
    "\n",
    "spark = SparkSession.builder.appName('NetEaseClouder').getOrCreate()\n",
    "import time\n",
    "spark2 = SparkSession.builder.appName(\"creatorinfo\").getOrCreate()"
   ]
  },
  {
   "cell_type": "code",
   "execution_count": 2,
   "id": "585a351b",
   "metadata": {},
   "outputs": [],
   "source": [
    "df = spark.read.csv(\"D:\\网易云大数据\\大数据\\impression_data.csv\", inferSchema=True, header=True)"
   ]
  },
  {
   "cell_type": "code",
   "execution_count": 5,
   "id": "7d1ecb6e",
   "metadata": {},
   "outputs": [
    {
     "name": "stdout",
     "output_type": "stream",
     "text": [
      "+------------------+---+---------------+-----------+-------+---------+----------------------+-------+-------------+------+------+------------+------+\n",
      "|detailMlogInfoList| dt|impressPosition|impressTime|isClick|isComment|isIntoPersonalHomepage|isShare|isViewComment|isLike|mlogId|mlogViewTime|userId|\n",
      "+------------------+---+---------------+-----------+-------+---------+----------------------+-------+-------------+------+------+------------+------+\n",
      "|                 0|  0|              0|          0|      0|        0|                     0|      0|            0|     0|     0|           0|     0|\n",
      "+------------------+---+---------------+-----------+-------+---------+----------------------+-------+-------------+------+------+------------+------+\n",
      "\n",
      "None\n",
      "CPU times: total: 46.9 ms\n",
      "Wall time: 16.8 s\n"
     ]
    }
   ],
   "source": [
    "%%time\n",
    "null_counts = df.select([count(when(col(c).isNull(), c)).alias(c) for c in df.columns])\n",
    "print(null_counts.show())"
   ]
  },
  {
   "cell_type": "code",
   "execution_count": 6,
   "id": "bc9559f0",
   "metadata": {},
   "outputs": [
    {
     "name": "stdout",
     "output_type": "stream",
     "text": [
      "root\n",
      " |-- detailMlogInfoList: string (nullable = true)\n",
      " |-- dt: integer (nullable = true)\n",
      " |-- impressPosition: integer (nullable = true)\n",
      " |-- impressTime: long (nullable = true)\n",
      " |-- isClick: integer (nullable = true)\n",
      " |-- isComment: integer (nullable = true)\n",
      " |-- isIntoPersonalHomepage: integer (nullable = true)\n",
      " |-- isShare: integer (nullable = true)\n",
      " |-- isViewComment: integer (nullable = true)\n",
      " |-- isLike: integer (nullable = true)\n",
      " |-- mlogId: string (nullable = true)\n",
      " |-- mlogViewTime: string (nullable = true)\n",
      " |-- userId: string (nullable = true)\n",
      "\n"
     ]
    }
   ],
   "source": [
    "df.printSchema()"
   ]
  },
  {
   "cell_type": "code",
   "execution_count": 9,
   "id": "6a627d7c",
   "metadata": {},
   "outputs": [],
   "source": [
    "selected_col = df.columns[-1]"
   ]
  },
  {
   "cell_type": "code",
   "execution_count": 12,
   "id": "894a6a97",
   "metadata": {},
   "outputs": [],
   "source": [
    "df = df.drop(selected_col)"
   ]
  },
  {
   "cell_type": "code",
   "execution_count": 13,
   "id": "8b860efe",
   "metadata": {},
   "outputs": [
    {
     "name": "stdout",
     "output_type": "stream",
     "text": [
      "root\n",
      " |-- detailMlogInfoList: string (nullable = true)\n",
      " |-- dt: integer (nullable = true)\n",
      " |-- impressPosition: integer (nullable = true)\n",
      " |-- impressTime: long (nullable = true)\n",
      " |-- isClick: integer (nullable = true)\n",
      " |-- isComment: integer (nullable = true)\n",
      " |-- isIntoPersonalHomepage: integer (nullable = true)\n",
      " |-- isShare: integer (nullable = true)\n",
      " |-- isViewComment: integer (nullable = true)\n",
      " |-- isLike: integer (nullable = true)\n",
      " |-- mlogId: string (nullable = true)\n",
      " |-- mlogViewTime: string (nullable = true)\n",
      "\n"
     ]
    }
   ],
   "source": [
    "df.printSchema()"
   ]
  },
  {
   "cell_type": "code",
   "execution_count": 116,
   "id": "25ae267e",
   "metadata": {
    "scrolled": true
   },
   "outputs": [
    {
     "name": "stdout",
     "output_type": "stream",
     "text": [
      "+--------------+\n",
      "|        mlogId|\n",
      "+--------------+\n",
      "|NCMCOCMCPCOCJC|\n",
      "|PCICMCLCHCKCPC|\n",
      "|MCNCMCICOCKCOC|\n",
      "|NCLCHCGCNCNCIC|\n",
      "|PCNCNCPCICNCMC|\n",
      "|KCLCNCLCNCMCLC|\n",
      "|NCJCGCMCJCLCMC|\n",
      "|NCHCOCLCNCKCGC|\n",
      "|KCPCLCKCLCMCIC|\n",
      "|NCPCPCHCLCGCJC|\n",
      "|NCJCOCNCOCJCHC|\n",
      "|KCPCICLCLCKCHC|\n",
      "|PCKCMCJCKCICGC|\n",
      "|NCHCMCOCMCNCLC|\n",
      "|NCICNCOCLCLCKC|\n",
      "|PCOCPCOCOCMCLC|\n",
      "|NCJCLCGCOCOCIC|\n",
      "|NCMCGCICJCPCIC|\n",
      "|KCKCOCKCHCGCKC|\n",
      "|NCGCLCICICOCGC|\n",
      "+--------------+\n",
      "only showing top 20 rows\n",
      "\n"
     ]
    }
   ],
   "source": [
    "df.select(\"mlogId\").distinct().show()"
   ]
  },
  {
   "cell_type": "code",
   "execution_count": 24,
   "id": "a66437de",
   "metadata": {},
   "outputs": [
    {
     "name": "stdout",
     "output_type": "stream",
     "text": [
      "detailMlogInfoList 57016662\n",
      "dt 0\n",
      "impressPosition 0\n",
      "impressTime 0\n",
      "isClick 0\n",
      "isComment 0\n",
      "isIntoPersonalHomepage 0\n",
      "isShare 0\n",
      "isViewComment 0\n",
      "isLike 0\n",
      "mlogId 0\n",
      "mlogViewTime 54963319\n"
     ]
    }
   ],
   "source": [
    "for c in df.columns:\n",
    "    print(c,df.filter(col(c)=='NA').count())"
   ]
  },
  {
   "cell_type": "code",
   "execution_count": 106,
   "id": "0e45883b",
   "metadata": {},
   "outputs": [
    {
     "data": {
      "text/plain": [
       "211066"
      ]
     },
     "execution_count": 106,
     "metadata": {},
     "output_type": "execute_result"
    }
   ],
   "source": [
    "df.select(\"mlogId\").distinct().count()"
   ]
  },
  {
   "cell_type": "code",
   "execution_count": 32,
   "id": "fda95f41",
   "metadata": {},
   "outputs": [
    {
     "name": "stdout",
     "output_type": "stream",
     "text": [
      "CPU times: total: 0 ns\n",
      "Wall time: 81.7 ms\n"
     ]
    }
   ],
   "source": [
    "%%time\n",
    "df2 = spark.read.csv(\"D://网易云大数据//大数据//user_demographics.csv\")"
   ]
  },
  {
   "cell_type": "code",
   "execution_count": 42,
   "id": "13f377d6",
   "metadata": {},
   "outputs": [
    {
     "name": "stdout",
     "output_type": "stream",
     "text": [
      "root\n",
      " |-- _c0: string (nullable = true)\n",
      " |-- _c1: string (nullable = true)\n",
      " |-- _c2: string (nullable = true)\n",
      " |-- _c3: string (nullable = true)\n",
      " |-- _c4: string (nullable = true)\n",
      " |-- _c5: string (nullable = true)\n",
      " |-- _c6: string (nullable = true)\n",
      "\n",
      "CPU times: total: 0 ns\n",
      "Wall time: 99.3 ms\n"
     ]
    }
   ],
   "source": [
    "%%time\n",
    "spark2 = SparkSession.builder.appName(\"creatorinfo\").getOrCreate()\n",
    "df2 = spark2.read.csv(\"D://网易云大数据//大数据//user_demographics.csv\")\n",
    "df2.printSchema()"
   ]
  },
  {
   "cell_type": "code",
   "execution_count": 55,
   "id": "f84be2c7",
   "metadata": {},
   "outputs": [
    {
     "name": "stdout",
     "output_type": "stream",
     "text": [
      "+----------------+---------+----+------+------------------+---------+-----+\n",
      "|             _c0|      _c1| _c2|   _c3|               _c4|      _c5|  _c6|\n",
      "+----------------+---------+----+------+------------------+---------+-----+\n",
      "|          userId| province| age|gender|registeredMonthCnt|followCnt|level|\n",
      "|    MCPCHCMCHCIC|   an hui|  21|  male|                80|       44|    9|\n",
      "|  NCOCKCPCMCGCGC| tian jin|  23|  male|                76|       59|    8|\n",
      "|PCKCOCMCGCGCHCKC|shang hai|null|  null|                69|       21|    7|\n",
      "|MCICHCKCKCGCMCIC| bei jing|null|  null|                66|       38|   10|\n",
      "+----------------+---------+----+------+------------------+---------+-----+\n",
      "\n",
      "+---+---+------+------+---+---+---+\n",
      "|_c0|_c1|   _c2|   _c3|_c4|_c5|_c6|\n",
      "+---+---+------+------+---+---+---+\n",
      "|  0|409|741491|741491|409|409|409|\n",
      "+---+---+------+------+---+---+---+\n",
      "\n",
      "None\n"
     ]
    }
   ],
   "source": [
    "df2.select(\"_c0\", \"_c1\", \"_c2\", \"_c3\", \"_c4\", \"_c5\", \"_c6\").limit(5).show()\n",
    "null_counts = df2.select([count(when(col(c).isNull(), c)).alias(c) for c in df2.columns])\n",
    "print(null_counts.show())"
   ]
  },
  {
   "cell_type": "code",
   "execution_count": 71,
   "id": "7bed756b",
   "metadata": {},
   "outputs": [
    {
     "data": {
      "text/plain": [
       "2085534"
      ]
     },
     "execution_count": 71,
     "metadata": {},
     "output_type": "execute_result"
    }
   ],
   "source": [
    "df2.select(\"_c0\").count()"
   ]
  },
  {
   "cell_type": "code",
   "execution_count": 61,
   "id": "5d7a3472",
   "metadata": {},
   "outputs": [
    {
     "data": {
      "text/plain": [
       "2085534"
      ]
     },
     "execution_count": 61,
     "metadata": {},
     "output_type": "execute_result"
    }
   ],
   "source": [
    "df2.select(\"_c0\").distinct().count()"
   ]
  },
  {
   "cell_type": "code",
   "execution_count": 66,
   "id": "1510a490",
   "metadata": {},
   "outputs": [
    {
     "name": "stdout",
     "output_type": "stream",
     "text": [
      "+--------------------+------+------------------+-------+---------+-----------+-----+\n",
      "|                 _c0|   _c1|               _c2|    _c3|      _c4|        _c5|  _c6|\n",
      "+--------------------+------+------------------+-------+---------+-----------+-----+\n",
      "|           creatorId|gender|registeredMonthCnt|follows|followeds|creatorType|level|\n",
      "|    JCJCKCPCOCNCMCHC|  male|                54|     29|       28|          0|    8|\n",
      "|  NCNCICLCJCHCLCNCPC|  null|                35|     17|        2|          0|    7|\n",
      "|  NCJCKCICNCICICGCMC|  null|                36|     12|       29|          0|    7|\n",
      "|  NCGCLCMCJCMCJCLCHC|  null|                36|    127|       18|          0|    9|\n",
      "|  ICMCHCPCHCHCLCGCOC|  null|                26|     17|        3|          0|    8|\n",
      "|  PCPCMCICOCJCLCJCMC|  null|                48|     27|       23|          0|    9|\n",
      "|  MCICPCPCGCGCGCJCIC|female|                45|     16|        9|          0|    7|\n",
      "|  MCHCOCHCOCNCHCJCJC|female|                42|      8|        8|          0|    8|\n",
      "|  NCOCJCOCOCICMCLCKC|female|                38|     15|        7|          0|    7|\n",
      "|  KCLCLCHCGCPCKCJCJC|  null|                32|      7|       28|          0|    7|\n",
      "|  ICMCKCLCMCKCJCGCMC|  null|                26|     98|       94|          0|    8|\n",
      "|PCKCJCOCJCNCNCHCPCIC|  male|                19|     12|        0|          0|    6|\n",
      "|PCICLCOCJCJCHCNCICHC|  male|                14|      3|        6|          0|    6|\n",
      "|PCJCPCHCNCOCLCGCKCOC|  male|                11|     15|        4|          0|    6|\n",
      "|PCGCPCLCGCMCKCKCNCGC|  null|                 5|     10|        4|          0|    4|\n",
      "|PCGCMCLCJCMCICHCPCKC|female|                 8|      7|        0|          0|    5|\n",
      "|    ICOCNCJCPCMCNCOC|  null|                57|     67|      216|          0|    8|\n",
      "|    HCICJCOCOCJCLCPC|female|                51|     58|       60|          0|    9|\n",
      "|  PCPCICICGCLCKCMCOC|  null|                48|     49|       12|          0|    8|\n",
      "+--------------------+------+------------------+-------+---------+-----------+-----+\n",
      "only showing top 20 rows\n",
      "\n"
     ]
    },
    {
     "data": {
      "text/plain": [
       "90535"
      ]
     },
     "execution_count": 66,
     "metadata": {},
     "output_type": "execute_result"
    }
   ],
   "source": [
    "creator_df = spark2.read.csv(\"D://网易云大数据//大数据//creator_demographics.csv\")\n",
    "creator_df.show()\n",
    "creator_df.select(\"_c0\").distinct().count()"
   ]
  },
  {
   "cell_type": "code",
   "execution_count": 73,
   "id": "4ba46866",
   "metadata": {},
   "outputs": [
    {
     "name": "stdout",
     "output_type": "stream",
     "text": [
      "+--------------------+---+---------------+\n",
      "|                 _c0|_c1|            _c2|\n",
      "+--------------------+---+---------------+\n",
      "|           creatorId| dt|PushlishMlogCnt|\n",
      "|PCGCHCGCKCHCNCPCMCHC|  8|              0|\n",
      "|  MCGCHCJCMCICMCKCHC|  8|              0|\n",
      "|  LCPCJCNCHCLCMCGCMC|  8|              0|\n",
      "|  LCLCMCOCICMCOCICHC|  8|              0|\n",
      "|PCKCNCGCNCOCLCKCHCMC|  8|              0|\n",
      "|PCJCKCICNCPCNCPCGCJC|  8|              0|\n",
      "|PCNCICPCMCMCOCPCLCOC|  8|              0|\n",
      "|  KCJCLCMCJCPCOCNCNC|  8|              0|\n",
      "|  NCLCJCOCKCKCKCHCOC|  8|              0|\n",
      "|  MCHCLCNCJCICLCMCKC|  8|              0|\n",
      "|  KCKCNCOCJCJCLCKCIC|  8|              0|\n",
      "|  PCNCPCNCLCHCHCPCIC|  8|              0|\n",
      "|  NCMCPCGCGCMCMCKCGC|  8|              0|\n",
      "|  NCGCOCMCOCHCKCNCHC|  8|              0|\n",
      "|  ICOCJCICGCKCMCJCKC|  8|              0|\n",
      "|  KCPCHCKCNCNCICLCMC|  8|              0|\n",
      "|PCKCPCJCPCKCOCNCKCJC|  8|              0|\n",
      "|PCICKCJCJCICOCNCMCPC|  8|              0|\n",
      "|PCLCMCOCPCMCICMCHCIC|  8|              0|\n",
      "+--------------------+---+---------------+\n",
      "only showing top 20 rows\n",
      "\n",
      "90535\n"
     ]
    },
    {
     "data": {
      "text/plain": [
       "2572513"
      ]
     },
     "execution_count": 73,
     "metadata": {},
     "output_type": "execute_result"
    }
   ],
   "source": [
    "creator_st_df = spark2.read.csv(\"D://网易云大数据//大数据//creator_stats.csv\")\n",
    "creator_st_df.show()\n",
    "print(creator_st_df.select(\"_c0\").distinct().count())\n",
    "creator_st_df.select(\"_c0\").count()"
   ]
  },
  {
   "cell_type": "code",
   "execution_count": 111,
   "id": "53ea15ac",
   "metadata": {},
   "outputs": [
    {
     "name": "stdout",
     "output_type": "stream",
     "text": [
      "+----------------+--------------+----+------+------------------+---------+-----+\n",
      "|             _c0|           _c1| _c2|   _c3|               _c4|      _c5|  _c6|\n",
      "+----------------+--------------+----+------+------------------+---------+-----+\n",
      "|          userId|      province| age|gender|registeredMonthCnt|followCnt|level|\n",
      "|    MCPCHCMCHCIC|        an hui|  21|  male|                80|       44|    9|\n",
      "|  NCOCKCPCMCGCGC|      tian jin|  23|  male|                76|       59|    8|\n",
      "|PCKCOCMCGCGCHCKC|     shang hai|null|  null|                69|       21|    7|\n",
      "|MCICHCKCKCGCMCIC|      bei jing|null|  null|                66|       38|   10|\n",
      "|NCJCHCPCNCICNCNC|        hu bei|  20|  male|                57|       29|    8|\n",
      "|NCGCHCGCKCNCHCJC|     shang hai|  26|  male|                63|       10|    6|\n",
      "|KCKCGCMCGCHCHCLC|       fu jian|  20|  male|                61|       11|    9|\n",
      "|KCKCGCLCKCJCMCOC|     xin jiang|null|  null|                61|       10|    8|\n",
      "|KCLCGCGCMCMCICJC|        hu bei|  18|  male|                60|        9|    7|\n",
      "|KCICMCOCOCLCHCJC|     shan dong|  26|  male|                61|        2|    7|\n",
      "|KCICKCICLCOCMCHC|   nei meng gu|null|  null|                61|        3|    8|\n",
      "|KCICICHCOCPCICLC|      si chuan|null|  null|                61|       19|    9|\n",
      "|KCJCNCICLCLCICNC|     shang hai|null|  null|                58|       10|    8|\n",
      "|KCGCGCKCOCICJCHC|    guang dong|  25|female|                60|       32|    7|\n",
      "|KCGCHCLCKCOCGCNC|     zhe jiang|null|  null|                60|       11|    7|\n",
      "|KCHCNCICKCICLCPC|        hu bei|null|  null|                60|        9|    7|\n",
      "|KCHCGCNCPCGCMCJC|      bei jing|null|  null|                48|       14|    7|\n",
      "|KCHCGCICKCGCHCLC|     liao ning|  24|  male|                34|        3|    6|\n",
      "|LCOCMCOCICKCKCJC|hei long jiang|null|  null|                59|        9|    8|\n",
      "+----------------+--------------+----+------+------------------+---------+-----+\n",
      "only showing top 20 rows\n",
      "\n",
      "+--------------------+\n",
      "|                 _c0|\n",
      "+--------------------+\n",
      "|  PCOCMCPCKCGCOCGCMC|\n",
      "|  PCMCOCKCMCICMCPCHC|\n",
      "|  MCGCMCJCMCMCHCMCIC|\n",
      "|  NCKCNCKCICKCPCKCGC|\n",
      "|  NCICJCNCJCICLCMCHC|\n",
      "|  NCICJCHCPCKCLCMCMC|\n",
      "|  KCOCHCLCKCOCKCMCMC|\n",
      "|  KCJCPCJCKCKCICGCLC|\n",
      "|PCNCKCHCJCICLCGCKCLC|\n",
      "|PCKCNCPCPCHCMCMCHCNC|\n",
      "|PCKCHCGCJCLCPCLCICHC|\n",
      "|PCLCICHCHCMCLCLCHCOC|\n",
      "|PCICGCNCGCOCGCMCKCNC|\n",
      "|PCHCKCJCGCKCOCMCMCIC|\n",
      "|MCOCPCMCKCNCLCJCMCIC|\n",
      "|    GCMCJCKCNCGCHCKC|\n",
      "|  MCLCICJCGCOCNCPCIC|\n",
      "|  NCOCHCPCLCKCPCJCIC|\n",
      "|  KCPCJCLCPCICKCGCOC|\n",
      "|  LCPCJCGCOCPCICNCPC|\n",
      "+--------------------+\n",
      "only showing top 20 rows\n",
      "\n"
     ]
    }
   ],
   "source": [
    "user_de_df = spark2.read.csv(\"D://网易云大数据//大数据//user_demographics.csv\")\n",
    "user_de_df.show()\n",
    "user_de_df.select(\"_c0\").distinct().show()"
   ]
  },
  {
   "cell_type": "code",
   "execution_count": 95,
   "id": "dcb68f7b",
   "metadata": {},
   "outputs": [
    {
     "name": "stdout",
     "output_type": "stream",
     "text": [
      "root\n",
      " |-- detailMlogInfoList: string (nullable = true)\n",
      " |-- dt: integer (nullable = true)\n",
      " |-- impressPosition: integer (nullable = true)\n",
      " |-- impressTime: long (nullable = true)\n",
      " |-- isClick: integer (nullable = true)\n",
      " |-- isComment: integer (nullable = true)\n",
      " |-- isIntoPersonalHomepage: integer (nullable = true)\n",
      " |-- isShare: integer (nullable = true)\n",
      " |-- isViewComment: integer (nullable = true)\n",
      " |-- isLike: integer (nullable = true)\n",
      " |-- mlogId: string (nullable = true)\n",
      " |-- mlogViewTime: string (nullable = true)\n",
      "\n"
     ]
    },
    {
     "data": {
      "text/plain": [
       "57750395"
      ]
     },
     "execution_count": 95,
     "metadata": {},
     "output_type": "execute_result"
    }
   ],
   "source": [
    "df.printSchema() #impression_csv\n",
    "df.select(\"mlogId\").count()"
   ]
  },
  {
   "cell_type": "code",
   "execution_count": 107,
   "id": "58e2d56d",
   "metadata": {},
   "outputs": [
    {
     "name": "stdout",
     "output_type": "stream",
     "text": [
      "+--------------------+------+------------------+-------+---------+-----------+-----+\n",
      "|                 _c0|   _c1|               _c2|    _c3|      _c4|        _c5|  _c6|\n",
      "+--------------------+------+------------------+-------+---------+-----------+-----+\n",
      "|           creatorId|gender|registeredMonthCnt|follows|followeds|creatorType|level|\n",
      "|    JCJCKCPCOCNCMCHC|  male|                54|     29|       28|          0|    8|\n",
      "|  NCNCICLCJCHCLCNCPC|  null|                35|     17|        2|          0|    7|\n",
      "|  NCJCKCICNCICICGCMC|  null|                36|     12|       29|          0|    7|\n",
      "|  NCGCLCMCJCMCJCLCHC|  null|                36|    127|       18|          0|    9|\n",
      "|  ICMCHCPCHCHCLCGCOC|  null|                26|     17|        3|          0|    8|\n",
      "|  PCPCMCICOCJCLCJCMC|  null|                48|     27|       23|          0|    9|\n",
      "|  MCICPCPCGCGCGCJCIC|female|                45|     16|        9|          0|    7|\n",
      "|  MCHCOCHCOCNCHCJCJC|female|                42|      8|        8|          0|    8|\n",
      "|  NCOCJCOCOCICMCLCKC|female|                38|     15|        7|          0|    7|\n",
      "|  KCLCLCHCGCPCKCJCJC|  null|                32|      7|       28|          0|    7|\n",
      "|  ICMCKCLCMCKCJCGCMC|  null|                26|     98|       94|          0|    8|\n",
      "|PCKCJCOCJCNCNCHCPCIC|  male|                19|     12|        0|          0|    6|\n",
      "|PCICLCOCJCJCHCNCICHC|  male|                14|      3|        6|          0|    6|\n",
      "|PCJCPCHCNCOCLCGCKCOC|  male|                11|     15|        4|          0|    6|\n",
      "|PCGCPCLCGCMCKCKCNCGC|  null|                 5|     10|        4|          0|    4|\n",
      "|PCGCMCLCJCMCICHCPCKC|female|                 8|      7|        0|          0|    5|\n",
      "|    ICOCNCJCPCMCNCOC|  null|                57|     67|      216|          0|    8|\n",
      "|    HCICJCOCOCJCLCPC|female|                51|     58|       60|          0|    9|\n",
      "|  PCPCICICGCLCKCMCOC|  null|                48|     49|       12|          0|    8|\n",
      "+--------------------+------+------------------+-------+---------+-----------+-----+\n",
      "only showing top 20 rows\n",
      "\n"
     ]
    },
    {
     "data": {
      "text/plain": [
       "12"
      ]
     },
     "execution_count": 107,
     "metadata": {},
     "output_type": "execute_result"
    }
   ],
   "source": [
    "#creator_demo\n",
    "path = \"D://网易云大数据//大数据//creator_demographics.csv\"\n",
    "creator_de = spark2.read.csv(path)\n",
    "creator_de.show()\n",
    "creator_de.select(\"_c5\").distinct().count()"
   ]
  },
  {
   "cell_type": "code",
   "execution_count": 113,
   "id": "d8186ab7",
   "metadata": {},
   "outputs": [
    {
     "name": "stdout",
     "output_type": "stream",
     "text": [
      "+--------------+--------------------+----------------+--------------------+-----------+----+--------------+-------+\n",
      "|           _c0|                 _c1|             _c2|                 _c3|        _c4| _c5|           _c6|    _c7|\n",
      "+--------------+--------------------+----------------+--------------------+-----------+----+--------------+-------+\n",
      "|        mlogId|              songId|        artistId|           creatorId|publishTime|type|     contentId| talkId|\n",
      "|NCGCJCNCPCPCOC|PCNCGCLCGCLCICHCLCIC|NCMCNCHCHCMCMCJC|  LCHCHCICPCHCHCICKC|         35|   1|5000,5006,5036|  13003|\n",
      "|MCLCOCOCKCOCIC|    MCGCKCGCPCPCGCHC|      ICKCOCJCIC|  MCICJCPCOCOCLCKCPC|        105|   1|          null|     -1|\n",
      "|PCMCMCICNCICOC|PCNCJCJCGCJCOCNCPCPC|PCMCOCLCICOCPCOC|PCNCLCKCGCMCPCOCOCMC|        140|   1|5004,5028,5152|   2005|\n",
      "|KCOCHCPCPCHCPC|            AFBHAHLH|        AFBHAHLH|  LCJCGCJCMCICHCLCHC|         25|   2|5001,5010,5054|1307098|\n",
      "|NCGCHCICPCPCKC|  LCOCNCMCICGCMCKCIC|    PCMCNCPCJCHC|PCKCICMCGCGCICMCKCPC|         35|   1|5001,5012,5076|   6005|\n",
      "|  JCJCKCKCMCNC|PCNCICICLCPCLCJCGCGC|PCMCOCJCGCPCKCGC|  NCOCKCHCLCJCOCPCIC|        182|   1|5000,5005,5033|  14003|\n",
      "|KCOCICHCPCHCGC|            AFBHAHLH|        AFBHAHLH|    NCKCICPCICOCGCGC|         25|   2|5001,5010,5054|1307098|\n",
      "|NCLCHCJCMCNCOC|            AFBHAHLH|        AFBHAHLH|  PCMCPCPCNCNCLCLCHC|         53|   2|5001,5012,5068|1293065|\n",
      "|  HCOCICPCKCHC|  KCNCICLCPCKCNCPCMC|        ICJCNCPC|  MCJCKCPCOCJCKCJCHC|        168|   1|          null|     -1|\n",
      "|KCOCKCNCOCNCOC|            AFBHAHLH|        AFBHAHLH|    JCOCKCLCNCGCKCHC|         25|   2|5001,5010,5054|1307098|\n",
      "|  JCLCGCKCMCLC|    NCMCICPCHCOCICKC|  PCOCMCKCNCOCGC|  NCLCPCPCKCNCMCNCLC|        182|   1|          null| 423013|\n",
      "|MCPCNCGCMCJCHC|  KCOCHCOCICOCOCHCJC|    GCICPCJCJCJC|PCGCMCKCJCPCJCGCHCJC|        109|   1|5002,5013,5083| 131004|\n",
      "|KCMCJCPCMCJCNC|            AFBHAHLH|        AFBHAHLH|  NCGCHCMCICLCPCGCGC|         18|   2|5002,5013,5082| 187003|\n",
      "|  GCPCOCJCLCIC|PCNCNCLCHCICGCNCLCKC|    MCKCPCLCGCGC|  NCLCKCPCGCGCHCOCJC|        175|   1|5001,5012,5068|  28231|\n",
      "|KCOCMCICNCPCLC|            AFBHAHLH|        AFBHAHLH|  NCPCNCHCHCHCNCGCOC|         25|   2|5001,5010,5054|1307098|\n",
      "|NCKCICICMCPCHC|            AFBHAHLH|        AFBHAHLH|  ICPCHCOCNCMCICGCOC|         62|   2|5000,5006,5036| 950016|\n",
      "|MCJCHCNCICJCIC|  LCLCICMCOCNCOCGCLC|PCKCOCLCLCOCGCLC|PCLCGCMCMCHCHCNCJCIC|         96|   1|5000,5006,5036|  13003|\n",
      "|KCOCJCHCHCNCKC|            AFBHAHLH|        AFBHAHLH|  KCOCNCJCJCKCHCICMC|         24|   2|5001,5010,5054|1307098|\n",
      "|NCKCMCICKCPCLC|    MCHCJCPCHCLCMCNC|              OC|  KCNCJCNCICGCNCNCPC|         65|   1|5000,5006,5038| 737003|\n",
      "+--------------+--------------------+----------------+--------------------+-----------+----+--------------+-------+\n",
      "only showing top 20 rows\n",
      "\n",
      "+--------------+\n",
      "|           _c6|\n",
      "+--------------+\n",
      "|5001,5012,5074|\n",
      "|1000,1004,3008|\n",
      "|5001,5011,5064|\n",
      "|5001,5010,5050|\n",
      "|5002,5014,5087|\n",
      "|5001,5012,5068|\n",
      "|5003,5025,5134|\n",
      "|1003,3005,4007|\n",
      "|5001,5012,5066|\n",
      "|5001,5011,5063|\n",
      "|5002,5014,5084|\n",
      "|5000,5007,5042|\n",
      "|5003,5022,5122|\n",
      "|5003,5022,5125|\n",
      "|5002,5018,5107|\n",
      "|5002,5014,5086|\n",
      "|5000,5005,5030|\n",
      "|5002,5017,5099|\n",
      "|5003,5024,5133|\n",
      "|1003,3000,1027|\n",
      "+--------------+\n",
      "only showing top 20 rows\n",
      "\n",
      "None\n"
     ]
    },
    {
     "data": {
      "text/plain": [
       "252956"
      ]
     },
     "execution_count": 113,
     "metadata": {},
     "output_type": "execute_result"
    }
   ],
   "source": [
    "path2 = \"D:\\网易云大数据\\大数据\\mlog_demographics.csv\"\n",
    "mlog_de = spark2.read.csv(path2)\n",
    "mlog_de.show()\n",
    "print(mlog_de.select(\"_c6\").distinct().show())\n",
    "mlog_de.select(\"_c6\").count()"
   ]
  },
  {
   "cell_type": "code",
   "execution_count": 94,
   "id": "87c7e321",
   "metadata": {},
   "outputs": [
    {
     "name": "stdout",
     "output_type": "stream",
     "text": [
      "+--------------+---+------------------+--------------+-------------+----------------+--------------+--------------------+--------------------+--------------------+\n",
      "|           _c0|_c1|               _c2|           _c3|          _c4|             _c5|           _c6|                 _c7|                 _c8|                 _c9|\n",
      "+--------------+---+------------------+--------------+-------------+----------------+--------------+--------------------+--------------------+--------------------+\n",
      "|        mlogId| dt|userImprssionCount|userClickCount|userLikeCount|userCommentCount|userShareCount|userViewCommentCount|userIntoPersonalH...|userFollowCreator...|\n",
      "|KCNCLCICKCHCLC| 26|              7907|            71|            1|               0|             0|                   3|                   0|                   0|\n",
      "|KCOCNCHCGCHCIC| 30|                 1|             0|            0|               0|             0|                   0|                   0|                   0|\n",
      "|NCKCMCKCNCNCOC| 11|               169|            15|            1|               0|             0|                   0|                   0|                   0|\n",
      "|NCJCOCJCLCGCJC| 14|               324|            27|            2|               1|             0|                   7|                   0|                   0|\n",
      "|NCGCOCKCOCOCKC| 17|               154|            10|            2|               0|             0|                   4|                   0|                   0|\n",
      "|PCKCOCICICKCOC| 12|              1300|            62|            5|               0|             0|                  14|                   6|                   1|\n",
      "|NCLCHCGCKCMCOC| 17|              1739|            24|            0|               0|             0|                   0|                   0|                   0|\n",
      "|  HCPCNCOCKCLC| 22|               854|            34|            3|               0|             0|                   1|                   0|                   0|\n",
      "|PCJCNCLCLCJCJC| 15|               229|            27|            3|               0|             1|                   1|                   0|                   0|\n",
      "|NCHCJCKCKCOCNC| 20|               498|            44|            2|               0|             0|                  10|                   2|                   0|\n",
      "|NCHCLCKCLCLCKC| 23|               505|            25|            1|               0|             0|                   3|                   0|                   0|\n",
      "|NCLCNCLCGCNCMC| 30|                78|             1|            0|               0|             0|                   0|                   0|                   0|\n",
      "|KCOCHCJCNCHCPC| 26|                19|             0|            0|               0|             0|                   0|                   0|                   0|\n",
      "|  ICLCJCPCGCJC|  6|               618|            26|            1|               0|             0|                   1|                   0|                   0|\n",
      "|  NCGCNCOCPCMC|  4|                15|             1|            0|               0|             0|                   0|                   0|                   0|\n",
      "|PCJCNCPCLCHCMC| 15|                 3|             0|            0|               0|             0|                   0|                   0|                   0|\n",
      "|PCJCPCLCNCPCOC|  5|               114|             9|            0|               0|             0|                   2|                   0|                   0|\n",
      "|PCKCJCKCHCOCGC| 19|                 6|             0|            0|               0|             0|                   0|                   0|                   0|\n",
      "|PCKCNCLCMCMCGC| 15|                 1|             0|            0|               0|             0|                   0|                   0|                   0|\n",
      "+--------------+---+------------------+--------------+-------------+----------------+--------------+--------------------+--------------------+--------------------+\n",
      "only showing top 20 rows\n",
      "\n",
      "4191678\n"
     ]
    },
    {
     "data": {
      "text/plain": [
       "247015"
      ]
     },
     "execution_count": 94,
     "metadata": {},
     "output_type": "execute_result"
    }
   ],
   "source": [
    "path3 = \"D://网易云大数据//大数据//mlog_stats.csv\"\n",
    "mlog_stats = spark2.read.csv(path3)\n",
    "mlog_stats.show()\n",
    "print(mlog_stats.select(\"_c0\").count())\n",
    "mlog_stats.select(\"_c0\").distinct().count()"
   ]
  },
  {
   "cell_type": "code",
   "execution_count": 117,
   "id": "aca95f3e",
   "metadata": {},
   "outputs": [
    {
     "name": "stdout",
     "output_type": "stream",
     "text": [
      "57788274\n",
      "252956\n",
      "+------------+--------------------+----------------+------------------+---+---+--------------+------+--------------------+---+---------------+-------------+-------+---------+----------------------+-------+-------------+------+------------+------------+\n",
      "|         _c0|                 _c1|             _c2|               _c3|_c4|_c5|           _c6|   _c7|  detailMlogInfoList| dt|impressPosition|  impressTime|isClick|isComment|isIntoPersonalHomepage|isShare|isViewComment|isLike|      mlogId|mlogViewTime|\n",
      "+------------+--------------------+----------------+------------------+---+---+--------------+------+--------------------+---+---------------+-------------+-------+---------+----------------------+-------+-------------+------+------------+------------+\n",
      "|GCGCJCLCPCHC|        NCKCKCKCPCGC|      PCPCOCHCJC|KCJCNCJCPCLCNCICHC|168|  1|5000,5006,5038|  6004|                  NA|  3|             21|1572764826000|      0|        0|                     0|      0|            0|     0|GCGCJCLCPCHC|          NA|\n",
      "|GCGCJCLCPCHC|        NCKCKCKCPCGC|      PCPCOCHCJC|KCJCNCJCPCLCNCICHC|168|  1|5000,5006,5038|  6004|                  NA|  3|              1|1572715084000|      0|        0|                     0|      0|            0|     0|GCGCJCLCPCHC|          NA|\n",
      "|GCGCKCKCHCKC|        GCPCICKCHCLC|      MCPCNCOCHC|  GCNCGCJCPCMCICOC|168|  1|5003,5021,5120| 28675|                  NA| 19|           1933|1574130983000|      0|        0|                     0|      0|            0|     0|GCGCKCKCHCKC|          NA|\n",
      "|GCGCKCKCHCKC|        GCPCICKCHCLC|      MCPCNCOCHC|  GCNCGCJCPCMCICOC|168|  1|5003,5021,5120| 28675|                  NA|  9|           4247|1573274027000|      0|        0|                     0|      0|            0|     0|GCGCKCKCHCKC|          NA|\n",
      "|GCGCKCKCHCKC|        GCPCICKCHCLC|      MCPCNCOCHC|  GCNCGCJCPCMCICOC|168|  1|5003,5021,5120| 28675|                  NA| 11|             18|1573433236000|      0|        0|                     0|      0|            0|     0|GCGCKCKCHCKC|          NA|\n",
      "|GCGCKCKCHCKC|        GCPCICKCHCLC|      MCPCNCOCHC|  GCNCGCJCPCMCICOC|168|  1|5003,5021,5120| 28675|                  NA| 26|             58|1574783252000|      0|        0|                     0|      0|            0|     0|GCGCKCKCHCKC|          NA|\n",
      "|GCGCKCKCHCKC|        GCPCICKCHCLC|      MCPCNCOCHC|  GCNCGCJCPCMCICOC|168|  1|5003,5021,5120| 28675|                  NA| 25|              7|1574688644000|      0|        0|                     0|      0|            0|     0|GCGCKCKCHCKC|          NA|\n",
      "|GCGCKCKCHCKC|        GCPCICKCHCLC|      MCPCNCOCHC|  GCNCGCJCPCMCICOC|168|  1|5003,5021,5120| 28675|                  NA| 12|            101|1573566900000|      0|        0|                     0|      0|            0|     0|GCGCKCKCHCKC|          NA|\n",
      "|GCGCKCKCHCKC|        GCPCICKCHCLC|      MCPCNCOCHC|  GCNCGCJCPCMCICOC|168|  1|5003,5021,5120| 28675|                  NA| 26|              1|1574774564000|      0|        0|                     0|      0|            0|     0|GCGCKCKCHCKC|          NA|\n",
      "|GCGCKCKCHCKC|        GCPCICKCHCLC|      MCPCNCOCHC|  GCNCGCJCPCMCICOC|168|  1|5003,5021,5120| 28675|                  NA| 30|             15|1575114765000|      0|        0|                     0|      0|            0|     0|GCGCKCKCHCKC|          NA|\n",
      "|GCGCKCKCHCKC|        GCPCICKCHCLC|      MCPCNCOCHC|  GCNCGCJCPCMCICOC|168|  1|5003,5021,5120| 28675|[{'isZan': '0', '...| 28|             35|1574913517000|      1|        0|                     0|      0|            0|     0|GCGCKCKCHCKC|       29.85|\n",
      "|GCGCKCKCHCKC|        GCPCICKCHCLC|      MCPCNCOCHC|  GCNCGCJCPCMCICOC|168|  1|5003,5021,5120| 28675|                  NA| 29|            160|1575003809000|      0|        0|                     0|      0|            0|     0|GCGCKCKCHCKC|          NA|\n",
      "|GCGCKCKCHCKC|        GCPCICKCHCLC|      MCPCNCOCHC|  GCNCGCJCPCMCICOC|168|  1|5003,5021,5120| 28675|                  NA| 16|             71|1573886328000|      0|        0|                     0|      0|            0|     0|GCGCKCKCHCKC|          NA|\n",
      "|GCGCKCKCHCKC|        GCPCICKCHCLC|      MCPCNCOCHC|  GCNCGCJCPCMCICOC|168|  1|5003,5021,5120| 28675|                  NA| 20|             24|1574238163000|      0|        0|                     0|      0|            0|     0|GCGCKCKCHCKC|          NA|\n",
      "|GCGCKCKCHCKC|        GCPCICKCHCLC|      MCPCNCOCHC|  GCNCGCJCPCMCICOC|168|  1|5003,5021,5120| 28675|                  NA| 27|            101|1574870012000|      0|        0|                     0|      0|            0|     0|GCGCKCKCHCKC|          NA|\n",
      "|GCGCPCKCGCJC|  KCKCJCOCJCHCLCGCIC|PCMCPCOCJCHCICPC|KCICGCOCOCKCLCMCJC|168|  1|          null|477037|                  NA|  2|             14|1572683132000|      1|        0|                     0|      0|            1|     0|GCGCPCKCGCJC|       27.96|\n",
      "|GCGCPCKCGCJC|  KCKCJCOCJCHCLCGCIC|PCMCPCOCJCHCICPC|KCICGCOCOCKCLCMCJC|168|  1|          null|477037|                  NA| 21|            126|1574303848000|      0|        0|                     0|      0|            0|     0|GCGCPCKCGCJC|          NA|\n",
      "|GCGCPCKCGCJC|  KCKCJCOCJCHCLCGCIC|PCMCPCOCJCHCICPC|KCICGCOCOCKCLCMCJC|168|  1|          null|477037|                  NA| 25|             51|1574696632000|      0|        0|                     0|      0|            0|     0|GCGCPCKCGCJC|          NA|\n",
      "|GCGCPCKCGCJC|  KCKCJCOCJCHCLCGCIC|PCMCPCOCJCHCICPC|KCICGCOCOCKCLCMCJC|168|  1|          null|477037|                  NA|  6|             52|1573028145000|      0|        0|                     0|      0|            0|     0|GCGCPCKCGCJC|          NA|\n",
      "|GCHCKCPCICLC|PCNCKCPCKCOCMCLCLCMC|  PCMCPCJCOCOCGC|  GCLCGCMCNCNCPCOC|168|  2|5001,5011,5065|463027|                  NA|  3|              3|1572744942000|      0|        0|                     0|      0|            0|     0|GCHCKCPCICLC|          NA|\n",
      "+------------+--------------------+----------------+------------------+---+---+--------------+------+--------------------+---+---------------+-------------+-------+---------+----------------------+-------+-------------+------+------------+------------+\n",
      "only showing top 20 rows\n",
      "\n"
     ]
    }
   ],
   "source": [
    "df_merge = mlog_de.join(df, mlog_de._c0==df.mlogId, \"left\")\n",
    "print(df_merge.select(\"_c0\").count())\n",
    "print(df_merge.select(\"_c0\").distinct().count())\n",
    "df_merge.show()"
   ]
  },
  {
   "cell_type": "code",
   "execution_count": null,
   "id": "c47889e1",
   "metadata": {},
   "outputs": [],
   "source": []
  }
 ],
 "metadata": {
  "kernelspec": {
   "display_name": "Python 3 (ipykernel)",
   "language": "python",
   "name": "python3"
  },
  "language_info": {
   "codemirror_mode": {
    "name": "ipython",
    "version": 3
   },
   "file_extension": ".py",
   "mimetype": "text/x-python",
   "name": "python",
   "nbconvert_exporter": "python",
   "pygments_lexer": "ipython3",
   "version": "3.10.12"
  }
 },
 "nbformat": 4,
 "nbformat_minor": 5
}
